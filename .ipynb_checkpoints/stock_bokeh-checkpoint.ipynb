{
 "cells": [
  {
   "cell_type": "code",
   "execution_count": 73,
   "metadata": {
    "collapsed": false
   },
   "outputs": [],
   "source": [
    "from flask import Flask, render_template, request, redirect\n",
    "import requests\n",
    "import json as simplejson\n",
    "import pandas as pd\n",
    "from bokeh.charts import TimeSeries, show, output_file\n",
    "from bokeh.embed import components \n",
    "from bokeh.plotting import figure\n",
    "from bokeh.models import ColumnDataSource\n",
    "from datetime import datetime"
   ]
  },
  {
   "cell_type": "code",
   "execution_count": 142,
   "metadata": {
    "collapsed": true
   },
   "outputs": [],
   "source": [
    "import pandas as pd\n",
    "import numpy as np\n",
    "\n",
    "from bokeh.plotting import figure, show\n",
    "from bokeh.io import output_notebook\n",
    "from bokeh.palettes import Spectral6\n",
    "from ipywidgets import *\n",
    "import requests\n",
    "import ujson as json"
   ]
  },
  {
   "cell_type": "code",
   "execution_count": 130,
   "metadata": {
    "collapsed": false
   },
   "outputs": [],
   "source": [
    "#ticker=request.form['dataset_code']\n",
    "ticker='GOOG'\n",
    "r=requests.get('https://www.quandl.com/api/v3/datasets/WIKI/'+ticker+'.json?api_key=tBXpG5nLBevqCdXXFi1U')\n",
    "json_object=r.json()\n",
    "data=json_object['dataset']['data']"
   ]
  },
  {
   "cell_type": "code",
   "execution_count": 133,
   "metadata": {
    "collapsed": true
   },
   "outputs": [],
   "source": [
    "showdata = {\"date\": [], \"open\": [], \"high\": [], \"low\": [], \"close\": [], \"volume\": []}\n",
    "#showdata = {\"date\": [], \"open\": []}\n",
    "for arr in data:\n",
    "    showdata['date'].append(datetime.strptime(arr[0], '%Y-%m-%d'))\n",
    "    showdata['open'].append(arr[1])\n",
    "    showdata['high'].append(arr[2])\n",
    "    showdata['low'].append(arr[3])\n",
    "    showdata['close'].append(arr[4])\n",
    "    showdata['volume'].append(arr[5])"
   ]
  },
  {
   "cell_type": "code",
   "execution_count": 138,
   "metadata": {
    "collapsed": true
   },
   "outputs": [],
   "source": [
    "def showplot(htmlinput, showdata):\n",
    "    p = figure(x_axis_type=\"datetime\")\n",
    "    color={'open':'green',\n",
    "           'high':'blue',\n",
    "           'low':'orange',\n",
    "           'close':'red'}\n",
    "    p.title.text = ticker\n",
    "    #p.legend.location = \"bottom\"\n",
    "    p.grid.grid_line_alpha=0\n",
    "    p.xaxis.axis_label = 'Date'\n",
    "    p.yaxis.axis_label = 'Price'\n",
    "    p.ygrid.band_fill_color=\"olive\"\n",
    "    p.ygrid.band_fill_alpha = 0.1\n",
    "    for i in htmlinput:\n",
    "        p.line(showdata['date'], showdata[i], legend=i, line_color=color[i])\n",
    "    p.legend.location = \"top_left\"\n",
    "    show(p)\n",
    "    "
   ]
  },
  {
   "cell_type": "code",
   "execution_count": 143,
   "metadata": {
    "collapsed": false
   },
   "outputs": [],
   "source": [
    "htmlinput=['open','close','high', 'low']\n",
    "showplot(htmlinput, showdata)"
   ]
  },
  {
   "cell_type": "code",
   "execution_count": null,
   "metadata": {
    "collapsed": true
   },
   "outputs": [],
   "source": []
  }
 ],
 "metadata": {
  "kernelspec": {
   "display_name": "Python 2",
   "language": "python",
   "name": "python2"
  },
  "language_info": {
   "codemirror_mode": {
    "name": "ipython",
    "version": 2
   },
   "file_extension": ".py",
   "mimetype": "text/x-python",
   "name": "python",
   "nbconvert_exporter": "python",
   "pygments_lexer": "ipython2",
   "version": "2.7.13"
  }
 },
 "nbformat": 4,
 "nbformat_minor": 0
}
